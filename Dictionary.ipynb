{
 "cells": [
  {
   "cell_type": "code",
   "execution_count": 3,
   "id": "3aa354cd-c489-40fc-9b5d-179e811af437",
   "metadata": {},
   "outputs": [],
   "source": [
    "d={}"
   ]
  },
  {
   "cell_type": "code",
   "execution_count": 4,
   "id": "9492734f-7d2c-480e-b7d9-c97b39bf7970",
   "metadata": {},
   "outputs": [
    {
     "data": {
      "text/plain": [
       "{}"
      ]
     },
     "execution_count": 4,
     "metadata": {},
     "output_type": "execute_result"
    }
   ],
   "source": [
    "d\n"
   ]
  },
  {
   "cell_type": "code",
   "execution_count": 6,
   "id": "39dc0d6a-b909-40b7-99b1-fedbe256e96c",
   "metadata": {},
   "outputs": [
    {
     "data": {
      "text/plain": [
       "dict"
      ]
     },
     "execution_count": 6,
     "metadata": {},
     "output_type": "execute_result"
    }
   ],
   "source": [
    "type(d)"
   ]
  },
  {
   "cell_type": "code",
   "execution_count": 2,
   "id": "fc8b5908-bca6-4955-b4a6-3c483a38f303",
   "metadata": {},
   "outputs": [
    {
     "data": {
      "text/plain": [
       "dict"
      ]
     },
     "execution_count": 2,
     "metadata": {},
     "output_type": "execute_result"
    }
   ],
   "source": [
    "type(d)\n"
   ]
  },
  {
   "cell_type": "code",
   "execution_count": 7,
   "id": "2189e4cc-7de4-48fe-b733-9d52c6e828b9",
   "metadata": {},
   "outputs": [],
   "source": [
    "d1={'key':\"sudh\"}"
   ]
  },
  {
   "cell_type": "code",
   "execution_count": 8,
   "id": "9cfea88c-5507-45c0-93eb-10e79509c6d0",
   "metadata": {},
   "outputs": [
    {
     "data": {
      "text/plain": [
       "{'key': 'sudh'}"
      ]
     },
     "execution_count": 8,
     "metadata": {},
     "output_type": "execute_result"
    }
   ],
   "source": [
    "d1"
   ]
  },
  {
   "cell_type": "code",
   "execution_count": 9,
   "id": "13f87823-1ddb-486f-a9ed-07cf50832603",
   "metadata": {},
   "outputs": [],
   "source": [
    "d2={'name':\"sudhanshu\",'email' : \"shudhansu@mail.com\",'number' :1234567899}"
   ]
  },
  {
   "cell_type": "code",
   "execution_count": 10,
   "id": "4fe87a91-d6ed-422c-99d1-d2377d606181",
   "metadata": {},
   "outputs": [
    {
     "data": {
      "text/plain": [
       "{'name': 'sudhanshu', 'email': 'shudhansu@mail.com', 'number': 1234567899}"
      ]
     },
     "execution_count": 10,
     "metadata": {},
     "output_type": "execute_result"
    }
   ],
   "source": [
    "d2"
   ]
  },
  {
   "cell_type": "code",
   "execution_count": 15,
   "id": "7675aa28-58e1-4ede-9d29-8db00e5f1510",
   "metadata": {},
   "outputs": [],
   "source": [
    "d3 ={234: \"alok\",True: 323}"
   ]
  },
  {
   "cell_type": "code",
   "execution_count": 16,
   "id": "fad5da0c-351b-4ca0-af75-67e717381230",
   "metadata": {},
   "outputs": [
    {
     "data": {
      "text/plain": [
       "{234: 'alok', True: 323}"
      ]
     },
     "execution_count": 16,
     "metadata": {},
     "output_type": "execute_result"
    }
   ],
   "source": [
    "d3\n"
   ]
  },
  {
   "cell_type": "code",
   "execution_count": 17,
   "id": "788a33e6-6ee3-4b02-9253-a36cd5b9fbbf",
   "metadata": {},
   "outputs": [
    {
     "ename": "AttributeError",
     "evalue": "'dict' object has no attribute 'value'",
     "output_type": "error",
     "traceback": [
      "\u001b[0;31m---------------------------------------------------------------------------\u001b[0m",
      "\u001b[0;31mAttributeError\u001b[0m                            Traceback (most recent call last)",
      "Cell \u001b[0;32mIn[17], line 1\u001b[0m\n\u001b[0;32m----> 1\u001b[0m \u001b[43md3\u001b[49m\u001b[38;5;241;43m.\u001b[39;49m\u001b[43mvalue\u001b[49m()\n",
      "\u001b[0;31mAttributeError\u001b[0m: 'dict' object has no attribute 'value'"
     ]
    }
   ],
   "source": [
    "d3.value()\n"
   ]
  },
  {
   "cell_type": "code",
   "execution_count": 18,
   "id": "ac8af6cb-b461-442c-91b1-0c336eb0accd",
   "metadata": {},
   "outputs": [
    {
     "data": {
      "text/plain": [
       "dict_keys([234, True])"
      ]
     },
     "execution_count": 18,
     "metadata": {},
     "output_type": "execute_result"
    }
   ],
   "source": [
    "d3.keys()\n"
   ]
  },
  {
   "cell_type": "code",
   "execution_count": 19,
   "id": "e018f5d4-0993-4ed5-9909-a2816a4ea67f",
   "metadata": {},
   "outputs": [
    {
     "ename": "KeyError",
     "evalue": "'234'",
     "output_type": "error",
     "traceback": [
      "\u001b[0;31m---------------------------------------------------------------------------\u001b[0m",
      "\u001b[0;31mKeyError\u001b[0m                                  Traceback (most recent call last)",
      "Cell \u001b[0;32mIn[19], line 1\u001b[0m\n\u001b[0;32m----> 1\u001b[0m \u001b[43md3\u001b[49m\u001b[43m[\u001b[49m\u001b[38;5;124;43m'\u001b[39;49m\u001b[38;5;124;43m234\u001b[39;49m\u001b[38;5;124;43m'\u001b[39;49m\u001b[43m]\u001b[49m\n",
      "\u001b[0;31mKeyError\u001b[0m: '234'"
     ]
    }
   ],
   "source": [
    "d3['234']"
   ]
  },
  {
   "cell_type": "code",
   "execution_count": 20,
   "id": "5032ae51-414a-463e-aec1-24866ce2eff7",
   "metadata": {},
   "outputs": [
    {
     "data": {
      "text/plain": [
       "'alok'"
      ]
     },
     "execution_count": 20,
     "metadata": {},
     "output_type": "execute_result"
    }
   ],
   "source": [
    "d3[234]"
   ]
  },
  {
   "cell_type": "code",
   "execution_count": 21,
   "id": "662eec2f-bf49-411d-aacf-e305519eca28",
   "metadata": {},
   "outputs": [
    {
     "data": {
      "text/plain": [
       "323"
      ]
     },
     "execution_count": 21,
     "metadata": {},
     "output_type": "execute_result"
    }
   ],
   "source": [
    "d3[1]"
   ]
  },
  {
   "cell_type": "code",
   "execution_count": 22,
   "id": "f064cf0f-c6a0-41e1-8e7b-6d5ad2145787",
   "metadata": {},
   "outputs": [
    {
     "data": {
      "text/plain": [
       "323"
      ]
     },
     "execution_count": 22,
     "metadata": {},
     "output_type": "execute_result"
    }
   ],
   "source": [
    "d3[True]"
   ]
  },
  {
   "cell_type": "code",
   "execution_count": 23,
   "id": "05a202e8-a2ad-417a-b9bb-5bc8d729d126",
   "metadata": {},
   "outputs": [
    {
     "ename": "KeyError",
     "evalue": "0",
     "output_type": "error",
     "traceback": [
      "\u001b[0;31m---------------------------------------------------------------------------\u001b[0m",
      "\u001b[0;31mKeyError\u001b[0m                                  Traceback (most recent call last)",
      "Cell \u001b[0;32mIn[23], line 1\u001b[0m\n\u001b[0;32m----> 1\u001b[0m \u001b[43md3\u001b[49m\u001b[43m[\u001b[49m\u001b[38;5;241;43m0\u001b[39;49m\u001b[43m]\u001b[49m\n",
      "\u001b[0;31mKeyError\u001b[0m: 0"
     ]
    }
   ],
   "source": [
    "d3[0]"
   ]
  },
  {
   "cell_type": "code",
   "execution_count": 24,
   "id": "e20172f5-e487-48dd-9de3-fd8fb5798bc4",
   "metadata": {},
   "outputs": [],
   "source": [
    "d4={'name':\"Alok\",'mail_id':\"alok@mail.com\",'name':\"ranjan\"}"
   ]
  },
  {
   "cell_type": "code",
   "execution_count": 25,
   "id": "fe7f981b-d638-46cf-b1ff-6705b5b925c9",
   "metadata": {},
   "outputs": [
    {
     "data": {
      "text/plain": [
       "{'name': 'ranjan', 'mail_id': 'alok@mail.com'}"
      ]
     },
     "execution_count": 25,
     "metadata": {},
     "output_type": "execute_result"
    }
   ],
   "source": [
    "d4"
   ]
  },
  {
   "cell_type": "code",
   "execution_count": 26,
   "id": "fdf8ec28-8408-45ae-a30b-554accc4613a",
   "metadata": {},
   "outputs": [
    {
     "data": {
      "text/plain": [
       "'ranjan'"
      ]
     },
     "execution_count": 26,
     "metadata": {},
     "output_type": "execute_result"
    }
   ],
   "source": [
    "d4['name']"
   ]
  },
  {
   "cell_type": "code",
   "execution_count": 27,
   "id": "d600927f-3748-4fa7-9a51-2a735a4674d2",
   "metadata": {},
   "outputs": [],
   "source": [
    "d5={'company':\"pwskills\",'course':[\"we dev\",\"data science\",\"java\"]}"
   ]
  },
  {
   "cell_type": "code",
   "execution_count": 28,
   "id": "a64b61ce-4750-497b-9a9a-4ff258c41c7b",
   "metadata": {},
   "outputs": [
    {
     "data": {
      "text/plain": [
       "{'company': 'pwskills', 'course': ['we dev', 'data science', 'java']}"
      ]
     },
     "execution_count": 28,
     "metadata": {},
     "output_type": "execute_result"
    }
   ],
   "source": [
    "d5"
   ]
  },
  {
   "cell_type": "code",
   "execution_count": 31,
   "id": "78f64779-54a8-45f2-b33d-2609dfc2092d",
   "metadata": {},
   "outputs": [
    {
     "data": {
      "text/plain": [
       "'data science'"
      ]
     },
     "execution_count": 31,
     "metadata": {},
     "output_type": "execute_result"
    }
   ],
   "source": [
    "d5['course'][1\n",
    "            ]"
   ]
  },
  {
   "cell_type": "code",
   "execution_count": 34,
   "id": "f7800987-c924-4f2b-8913-dc05a5648e9b",
   "metadata": {},
   "outputs": [],
   "source": [
    "d6={'number':[2,3,44,5,6,67,], 'assigment':(1,2,3,45,6), 'launch date': {28,56,45},\"Class_Time\":{'web_dev': 8,'Data Science master': 9}}"
   ]
  },
  {
   "cell_type": "code",
   "execution_count": 35,
   "id": "101675ef-d32f-4687-a994-23ab2b459977",
   "metadata": {},
   "outputs": [
    {
     "data": {
      "text/plain": [
       "{'number': [2, 3, 44, 5, 6, 67],\n",
       " 'assigment': (1, 2, 3, 45, 6),\n",
       " 'launch date': {28, 45, 56},\n",
       " 'Class_Time': {'web_dev': 8, 'Data Science master': 9}}"
      ]
     },
     "execution_count": 35,
     "metadata": {},
     "output_type": "execute_result"
    }
   ],
   "source": [
    "d6"
   ]
  },
  {
   "cell_type": "code",
   "execution_count": 37,
   "id": "a15092b8-921f-4f9f-a649-59343368fa02",
   "metadata": {},
   "outputs": [
    {
     "data": {
      "text/plain": [
       "8"
      ]
     },
     "execution_count": 37,
     "metadata": {},
     "output_type": "execute_result"
    }
   ],
   "source": [
    "d6['Class_Time']['web_dev']"
   ]
  },
  {
   "cell_type": "code",
   "execution_count": 39,
   "id": "51bbba1a-3b90-460e-9d1a-179353d28bc1",
   "metadata": {},
   "outputs": [
    {
     "data": {
      "text/plain": [
       "2"
      ]
     },
     "execution_count": 39,
     "metadata": {},
     "output_type": "execute_result"
    }
   ],
   "source": [
    "d6['number'][0]"
   ]
  },
  {
   "cell_type": "code",
   "execution_count": 40,
   "id": "e8f0d470-7e27-4ecb-9123-f7d3b40ab377",
   "metadata": {},
   "outputs": [],
   "source": [
    "d6['Mentor']=[\"Shundhansu\",\"Krish\",\"anurag\",\"Hayder\"]"
   ]
  },
  {
   "cell_type": "code",
   "execution_count": 41,
   "id": "4e32f427-4ee8-4fe8-ac4b-c7c5f4738abf",
   "metadata": {},
   "outputs": [
    {
     "data": {
      "text/plain": [
       "{'number': [2, 3, 44, 5, 6, 67],\n",
       " 'assigment': (1, 2, 3, 45, 6),\n",
       " 'launch date': {28, 45, 56},\n",
       " 'Class_Time': {'web_dev': 8, 'Data Science master': 9},\n",
       " 'Mentor': ['Shundhansu', 'Krish', 'anurag', 'Hayder']}"
      ]
     },
     "execution_count": 41,
     "metadata": {},
     "output_type": "execute_result"
    }
   ],
   "source": [
    "d6"
   ]
  },
  {
   "cell_type": "code",
   "execution_count": 44,
   "id": "daba82e4-456f-4d43-b6d5-d8417597b3e5",
   "metadata": {},
   "outputs": [
    {
     "data": {
      "text/plain": [
       "'Hayder'"
      ]
     },
     "execution_count": 44,
     "metadata": {},
     "output_type": "execute_result"
    }
   ],
   "source": [
    "d6['Mentor'][3]"
   ]
  },
  {
   "cell_type": "code",
   "execution_count": 45,
   "id": "2ae26502-fa55-4828-b8f5-4bc6d7b7a16f",
   "metadata": {},
   "outputs": [],
   "source": [
    "del d6['number']"
   ]
  },
  {
   "cell_type": "code",
   "execution_count": 46,
   "id": "9ef25e98-e7b8-4887-869b-cfcfa3bbd0f6",
   "metadata": {},
   "outputs": [
    {
     "data": {
      "text/plain": [
       "{'assigment': (1, 2, 3, 45, 6),\n",
       " 'launch date': {28, 45, 56},\n",
       " 'Class_Time': {'web_dev': 8, 'Data Science master': 9},\n",
       " 'Mentor': ['Shundhansu', 'Krish', 'anurag', 'Hayder']}"
      ]
     },
     "execution_count": 46,
     "metadata": {},
     "output_type": "execute_result"
    }
   ],
   "source": [
    "d6"
   ]
  },
  {
   "cell_type": "code",
   "execution_count": 50,
   "id": "6495ea48-78a4-406b-a20a-17d7800d1f4d",
   "metadata": {},
   "outputs": [
    {
     "data": {
      "text/plain": [
       "['assigment', 'launch date', 'Class_Time', 'Mentor']"
      ]
     },
     "execution_count": 50,
     "metadata": {},
     "output_type": "execute_result"
    }
   ],
   "source": [
    "list(d6.keys())"
   ]
  },
  {
   "cell_type": "code",
   "execution_count": 54,
   "id": "9e89d250-5e70-4573-ad02-a013bf44e498",
   "metadata": {},
   "outputs": [
    {
     "data": {
      "text/plain": [
       "[('assigment', (1, 2, 3, 45, 6)),\n",
       " ('launch date', {28, 45, 56}),\n",
       " ('Class_Time', {'web_dev': 8, 'Data Science master': 9}),\n",
       " ('Mentor', ['Shundhansu', 'Krish', 'anurag', 'Hayder'])]"
      ]
     },
     "execution_count": 54,
     "metadata": {},
     "output_type": "execute_result"
    }
   ],
   "source": [
    "list(d6.items())"
   ]
  },
  {
   "cell_type": "code",
   "execution_count": 55,
   "id": "350108bb-f149-4500-a901-ae903975a20d",
   "metadata": {},
   "outputs": [
    {
     "data": {
      "text/plain": [
       "(1, 2, 3, 45, 6)"
      ]
     },
     "execution_count": 55,
     "metadata": {},
     "output_type": "execute_result"
    }
   ],
   "source": [
    "d6.pop('assigment')"
   ]
  },
  {
   "cell_type": "code",
   "execution_count": 56,
   "id": "021caf9b-d922-4e83-84c9-bfee33bf5bea",
   "metadata": {},
   "outputs": [
    {
     "data": {
      "text/plain": [
       "{'launch date': {28, 45, 56},\n",
       " 'Class_Time': {'web_dev': 8, 'Data Science master': 9},\n",
       " 'Mentor': ['Shundhansu', 'Krish', 'anurag', 'Hayder']}"
      ]
     },
     "execution_count": 56,
     "metadata": {},
     "output_type": "execute_result"
    }
   ],
   "source": [
    "d6"
   ]
  },
  {
   "cell_type": "code",
   "execution_count": 57,
   "id": "9c408564-8a2f-4fba-b3b9-ba4659046048",
   "metadata": {},
   "outputs": [
    {
     "data": {
      "text/plain": [
       "('Mentor', ['Shundhansu', 'Krish', 'anurag', 'Hayder'])"
      ]
     },
     "execution_count": 57,
     "metadata": {},
     "output_type": "execute_result"
    }
   ],
   "source": [
    "d6.popitem()"
   ]
  },
  {
   "cell_type": "code",
   "execution_count": 72,
   "id": "752fad92-59bd-4733-a5f2-f35e76465eef",
   "metadata": {},
   "outputs": [],
   "source": [
    "##     -------------------------     CONTROL STAEMENTS   ------------------------------      ##"
   ]
  },
  {
   "cell_type": "code",
   "execution_count": 71,
   "id": "95682a84-3a19-4f9e-86ef-6a5eec0b547e",
   "metadata": {},
   "outputs": [
    {
     "name": "stdin",
     "output_type": "stream",
     "text": [
      "Enter you marks :  85\n"
     ]
    },
    {
     "name": "stdout",
     "output_type": "stream",
     "text": [
      "you will be part of A0 batch\n"
     ]
    }
   ],
   "source": [
    "marks=int(input('Enter your marks : '))\n",
    "if marks >= 80 and marks <100 :\n",
    "    print(\"you will be part of A0 batch\")\n",
    "elif marks >=60 and marks < 80:\n",
    "        print(\"You will be a part of A1 batch\")\n",
    "elif marks >= 40 and marks < 60:\n",
    "            print(\"You will be art of A2 batch\")\n",
    "else :\n",
    "                print(\"you will part A3 batch\")"
   ]
  },
  {
   "cell_type": "code",
   "execution_count": 80,
   "id": "0b625073-a345-4930-bbca-92468fd068f0",
   "metadata": {},
   "outputs": [
    {
     "name": "stdin",
     "output_type": "stream",
     "text": [
      "Enter price :  500\n"
     ]
    },
    {
     "name": "stdout",
     "output_type": "stream",
     "text": [
      "Not interested\n"
     ]
    }
   ],
   "source": [
    "price = int(input(\"Enter price : \"))\n",
    "if price >1000:\n",
    "    print(\"I will not purchage\")\n",
    "    if price >5000:\n",
    "        print(\"This price too much\")\n",
    "    elif price < 2000:\n",
    "        print(\"Its Ok\" )\n",
    "        \n",
    "else :\n",
    "    print(\"Not interested\")\n"
   ]
  },
  {
   "cell_type": "code",
   "execution_count": null,
   "id": "59e72ada-ac18-440a-854a-43e7f5b7f90c",
   "metadata": {},
   "outputs": [],
   "source": [
    "              ##----------------------------LOOPS----------------------------------##"
   ]
  },
  {
   "cell_type": "code",
   "execution_count": 82,
   "id": "7b5f9b63-6374-4adf-83b6-dc086daaf3a4",
   "metadata": {},
   "outputs": [],
   "source": [
    "l=[1,2,3,4,5,6,7,8]"
   ]
  },
  {
   "cell_type": "code",
   "execution_count": 83,
   "id": "5f8305d6-8ce2-45b3-945f-4f53b39ea3a8",
   "metadata": {},
   "outputs": [
    {
     "name": "stdout",
     "output_type": "stream",
     "text": [
      "1\n",
      "2\n",
      "3\n",
      "4\n",
      "5\n",
      "6\n",
      "7\n",
      "8\n"
     ]
    }
   ],
   "source": [
    "for i in l :\n",
    "    print(i)"
   ]
  },
  {
   "cell_type": "code",
   "execution_count": 87,
   "id": "560af50f-d9ae-47f2-997b-9cbf6927b9c9",
   "metadata": {},
   "outputs": [
    {
     "name": "stdout",
     "output_type": "stream",
     "text": [
      "2\n",
      "3\n",
      "4\n",
      "5\n",
      "6\n",
      "7\n",
      "8\n",
      "9\n"
     ]
    }
   ],
   "source": [
    "for i in l :\n",
    "    print(i + 1)\n",
    "    l=(i + 1)"
   ]
  },
  {
   "cell_type": "code",
   "execution_count": 88,
   "id": "9ba55d5b-e716-4e56-ac0b-bb8454930925",
   "metadata": {},
   "outputs": [
    {
     "data": {
      "text/plain": [
       "9"
      ]
     },
     "execution_count": 88,
     "metadata": {},
     "output_type": "execute_result"
    }
   ],
   "source": [
    "l"
   ]
  },
  {
   "cell_type": "code",
   "execution_count": 89,
   "id": "e52b5556-1622-4aa8-bb3a-aae67f60b43f",
   "metadata": {},
   "outputs": [],
   "source": [
    "l=[1,2,3,4,5,6,7,8]"
   ]
  },
  {
   "cell_type": "code",
   "execution_count": 90,
   "id": "fe36c89c-b17c-487d-85a3-20626cc312bb",
   "metadata": {},
   "outputs": [
    {
     "data": {
      "text/plain": [
       "[1, 2, 3, 4, 5, 6, 7, 8]"
      ]
     },
     "execution_count": 90,
     "metadata": {},
     "output_type": "execute_result"
    }
   ],
   "source": [
    "l"
   ]
  },
  {
   "cell_type": "code",
   "execution_count": 91,
   "id": "fcc50370-a4e9-4b17-8bf9-43f639fa4024",
   "metadata": {},
   "outputs": [
    {
     "data": {
      "text/plain": [
       "[2, 3, 4, 5, 6, 7, 8, 9]"
      ]
     },
     "execution_count": 91,
     "metadata": {},
     "output_type": "execute_result"
    }
   ],
   "source": [
    "l1  = []\n",
    "for i in l :\n",
    "    l1.append(i+1)\n",
    "    \n",
    "l1    "
   ]
  },
  {
   "cell_type": "code",
   "execution_count": 92,
   "id": "df114b99-78b6-4b7f-8169-3e54c989a4c6",
   "metadata": {},
   "outputs": [],
   "source": [
    "l=  [\"sudh\",\"kumar\",\"pwskills\",\"course\"]"
   ]
  },
  {
   "cell_type": "code",
   "execution_count": 96,
   "id": "7678742f-5da9-4ca2-85ed-262f1e7673f7",
   "metadata": {},
   "outputs": [
    {
     "data": {
      "text/plain": [
       "['SUDH', 'KUMAR', 'PWSKILLS', 'COURSE']"
      ]
     },
     "execution_count": 96,
     "metadata": {},
     "output_type": "execute_result"
    }
   ],
   "source": [
    "l1=[]\n",
    "for i in l:\n",
    "    l1.append(i.upper()) \n",
    "    \n",
    "l1    "
   ]
  },
  {
   "cell_type": "code",
   "execution_count": 97,
   "id": "813428d8-0abc-4eba-81a7-50871661139b",
   "metadata": {},
   "outputs": [],
   "source": [
    "l= [1,2,3,4,\"sudh\",\"kumar\",324,34.54,\"abc\"]"
   ]
  },
  {
   "cell_type": "code",
   "execution_count": 103,
   "id": "b8d15f24-251f-4654-b554-3398c5e85246",
   "metadata": {},
   "outputs": [
    {
     "data": {
      "text/plain": [
       "['sudh', 'kumar', 'abc']"
      ]
     },
     "execution_count": 103,
     "metadata": {},
     "output_type": "execute_result"
    }
   ],
   "source": [
    "l1_num=[]\n",
    "l2_str=[]\n",
    "\n",
    "for i in l:\n",
    "    if type(i) == int or type(i) == float :\n",
    "        l1_num.append(i)\n",
    "    else:\n",
    "        l2_str.append(i)\n"
   ]
  },
  {
   "cell_type": "code",
   "execution_count": 104,
   "id": "b25e7a54-6532-4dbe-a497-73c1f956ab51",
   "metadata": {},
   "outputs": [
    {
     "data": {
      "text/plain": [
       "[1, 2, 3, 4, 324, 34.54]"
      ]
     },
     "execution_count": 104,
     "metadata": {},
     "output_type": "execute_result"
    }
   ],
   "source": [
    "l1_num"
   ]
  },
  {
   "cell_type": "code",
   "execution_count": 105,
   "id": "358665fa-e287-4c47-a5ca-63c02c1cef7d",
   "metadata": {},
   "outputs": [
    {
     "data": {
      "text/plain": [
       "['sudh', 'kumar', 'abc']"
      ]
     },
     "execution_count": 105,
     "metadata": {},
     "output_type": "execute_result"
    }
   ],
   "source": [
    "l2_str"
   ]
  },
  {
   "cell_type": "code",
   "execution_count": null,
   "id": "f6406a3c-520e-4c0c-aaff-bf6b77fc7f85",
   "metadata": {},
   "outputs": [],
   "source": []
  }
 ],
 "metadata": {
  "kernelspec": {
   "display_name": "Python 3 (ipykernel)",
   "language": "python",
   "name": "python3"
  },
  "language_info": {
   "codemirror_mode": {
    "name": "ipython",
    "version": 3
   },
   "file_extension": ".py",
   "mimetype": "text/x-python",
   "name": "python",
   "nbconvert_exporter": "python",
   "pygments_lexer": "ipython3",
   "version": "3.10.8"
  }
 },
 "nbformat": 4,
 "nbformat_minor": 5
}
