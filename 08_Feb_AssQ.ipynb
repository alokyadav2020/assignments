{
 "cells": [
  {
   "cell_type": "markdown",
   "metadata": {},
   "source": [
    "## 08 Feb AssQ"
   ]
  },
  {
   "cell_type": "markdown",
   "metadata": {},
   "source": [
    "Q1. What is Abstraction in OOps? Explain with an example.\n"
   ]
  },
  {
   "cell_type": "markdown",
   "metadata": {},
   "source": [
    "Abstraction is a fundamental concept in object-oriented programming (OOP) that involves simplifying complex systems by modeling only the relevant aspects while ignoring unnecessary details. It focuses on the essential characteristics of an object or a system, hiding the implementation details and exposing only the necessary interfaces.\n",
    "\n",
    "In OOP, abstraction is achieved through classes and objects. A class defines the abstract blueprint or template for creating objects, while objects represent specific instances of that class with their own unique state and behavior.\n",
    "\n",
    "Here's how abstraction works in OOP:\n",
    "\n",
    "1. **Modeling Real-world Entities**: Abstraction allows programmers to model real-world entities as objects with well-defined attributes (properties) and behaviors (methods). It captures the essential characteristics of these entities without getting into the specifics of how they are implemented.\n",
    "\n",
    "2. **Hiding Implementation Details**: Abstraction hides the internal implementation details of objects, providing a simplified and easy-to-understand view of the system. It encapsulates complex logic within methods and exposes only the necessary functionality through well-defined interfaces.\n",
    "\n",
    "3. **Promoting Modularity and Encapsulation**: Abstraction promotes modularity by breaking down complex systems into smaller, more manageable components (classes and objects). It encourages encapsulation, where the internal state and behavior of an object are encapsulated within the class, protecting them from external interference.\n",
    "\n",
    "4. **Improving Code Reusability and Maintainability**: By focusing on the essential aspects of objects and hiding unnecessary details, abstraction enhances code reusability and maintainability. It allows programmers to reuse existing classes and objects in different contexts and makes it easier to modify or extend the system without affecting other parts of the code.\n",
    "\n",
    "Example:\n",
    "\n",
    "Let's consider an example of abstraction with a `Shape` class:\n",
    "\n",
    "\n",
    "\n"
   ]
  },
  {
   "cell_type": "code",
   "execution_count": 1,
   "metadata": {},
   "outputs": [
    {
     "name": "stdout",
     "output_type": "stream",
     "text": [
      "Rectangle Area: 15\n",
      "Rectangle Perimeter: 16\n",
      "Circle Area: 50.26548245743669\n",
      "Circle Perimeter: 25.132741228718345\n"
     ]
    }
   ],
   "source": [
    "class Shape:\n",
    "    def area(self):\n",
    "        pass  # Abstract method to calculate the area\n",
    "\n",
    "    def perimeter(self):\n",
    "        pass  # Abstract method to calculate the perimeter\n",
    "\n",
    "class Rectangle(Shape):\n",
    "    def __init__(self, length, width):\n",
    "        self.length = length\n",
    "        self.width = width\n",
    "\n",
    "    def area(self):\n",
    "        return self.length * self.width\n",
    "\n",
    "    def perimeter(self):\n",
    "        return 2 * (self.length + self.width)\n",
    "\n",
    "class Circle(Shape):\n",
    "    def __init__(self, radius):\n",
    "        self.radius = radius\n",
    "\n",
    "    def area(self):\n",
    "        import math\n",
    "        return math.pi * self.radius ** 2\n",
    "\n",
    "    def perimeter(self):\n",
    "        import math\n",
    "        return 2 * math.pi * self.radius\n",
    "\n",
    "# Creating objects of Rectangle and Circle\n",
    "rectangle = Rectangle(5, 3)\n",
    "circle = Circle(4)\n",
    "\n",
    "# Calling methods on the objects\n",
    "print(\"Rectangle Area:\", rectangle.area())    # Output: 15\n",
    "print(\"Rectangle Perimeter:\", rectangle.perimeter())  # Output: 16\n",
    "print(\"Circle Area:\", circle.area())        # Output: 50.26548245743669\n",
    "print(\"Circle Perimeter:\", circle.perimeter())  # Output: 25.132741228718345"
   ]
  },
  {
   "cell_type": "markdown",
   "metadata": {},
   "source": [
    "In this example:\n",
    "\n",
    "- The `Shape` class defines an abstract blueprint for shapes with abstract methods `area()` and `perimeter()`.\n",
    "- The `Rectangle` and `Circle` classes inherit from the `Shape` class and provide concrete implementations for the abstract methods.\n",
    "- Each shape object (`rectangle` and `circle`) encapsulates its own state (e.g., length, width, radius) and behavior (e.g., area, perimeter) without exposing the internal implementation details.\n",
    "- Abstraction allows us to work with shapes at a higher level of abstraction, focusing on their common attributes and behaviors, rather than their specific implementations."
   ]
  },
  {
   "cell_type": "markdown",
   "metadata": {},
   "source": [
    "Q2. Differentiate between Abstraction and Encapsulation. Explain with an example."
   ]
  },
  {
   "cell_type": "markdown",
   "metadata": {},
   "source": [
    "Abstraction and encapsulation are two fundamental concepts in object-oriented programming (OOP) that serve different purposes but are closely related and often used together.\n",
    "\n",
    "Here's the difference between abstraction and encapsulation, along with examples to illustrate each concept:\n",
    "\n",
    "1. **Abstraction**:\n",
    "\n",
    "   - **Definition**: Abstraction involves simplifying complex systems by modeling only the relevant aspects while hiding unnecessary details. It focuses on the essential characteristics of an object or a system, providing a high-level view without getting into the specifics of implementation.\n",
    "   \n",
    "   - **Purpose**: Abstraction allows programmers to focus on what an object does rather than how it does it. It promotes modularity, code reusability, and maintainability by providing well-defined interfaces and hiding implementation details.\n",
    "   \n",
    "   - **Example**: In the context of OOP, abstraction is often achieved through classes and methods. For example, consider a `Shape` class that represents various geometric shapes. Each shape object may have methods such as `area()` and `perimeter()`, abstracting away the specific calculations needed for each shape. The internal implementation details of these methods are hidden from the outside world, allowing users to work with shapes at a higher level of abstraction.\n",
    "\n",
    "2. **Encapsulation**:\n",
    "\n",
    "   - **Definition**: Encapsulation is the bundling of data (attributes) and methods (functions) that operate on that data into a single unit, known as a class. It hides the internal state of an object from the outside world and only exposes the necessary functionality through well-defined interfaces.\n",
    "   \n",
    "   - **Purpose**: Encapsulation promotes data hiding, information hiding, and access control. It protects the integrity of data by preventing direct access to internal attributes and enforcing access through methods, thus ensuring data consistency and security.\n",
    "   \n",
    "   - **Example**: Continuing with the `Shape` class example, encapsulation would involve defining attributes such as `length`, `width`, and `radius` as instance variables within the class. These attributes are accessed and modified through methods such as `set_length()`, `get_width()`, and `calculate_area()`, encapsulating the data and behavior related to shapes within the class. Users interact with shape objects through these methods, maintaining the integrity of the internal state of the objects.\n",
    "\n",
    "In summary, abstraction focuses on what an object does and hides unnecessary details, while encapsulation focuses on how an object achieves its functionality and hides the internal implementation details. Both concepts are essential in OOP for building modular, maintainable, and secure software systems."
   ]
  },
  {
   "cell_type": "markdown",
   "metadata": {},
   "source": [
    "Q3. What is abc module in python? Why is it used?"
   ]
  },
  {
   "cell_type": "markdown",
   "metadata": {},
   "source": [
    "The `abc` module in Python stands for \"Abstract Base Classes.\" It provides a framework for defining abstract base classes and abstract methods, which are used to create interfaces and enforce a common structure among subclasses. The `abc` module is part of the Python standard library and is used to implement abstract classes and methods.\n",
    "\n",
    "Here's why the `abc` module is used:\n",
    "\n",
    "1. **Defining Abstract Base Classes (ABCs)**: The `abc` module allows you to define abstract base classes, which are classes that cannot be instantiated directly but serve as templates for creating subclasses. Abstract base classes typically contain one or more abstract methods that must be implemented by subclasses.\n",
    "\n",
    "2. **Enforcing Interfaces**: Abstract base classes define a set of methods that subclasses must implement. This allows you to define interfaces that specify the behavior expected from subclasses. By using abstract base classes, you can enforce a common structure among subclasses, ensuring consistency and interoperability.\n",
    "\n",
    "3. **Providing a Contract**: Abstract base classes serve as a contract between the base class and its subclasses. They specify the methods that subclasses must implement, providing a clear and explicit definition of the expected behavior. This helps in code maintenance, as developers know exactly what methods need to be implemented when creating new subclasses.\n",
    "\n",
    "4. **Facilitating Polymorphism**: Abstract base classes facilitate polymorphism, allowing objects of different subclasses to be treated uniformly. By defining a common interface through abstract base classes, you can write code that operates on objects of different types without having to know their specific implementations.\n",
    "\n",
    "5. **Preventing Instantiation of Abstract Classes**: Abstract base classes cannot be instantiated directly. Attempting to create an instance of an abstract class will result in a `TypeError`. This prevents developers from mistakenly creating objects of abstract classes and encourages them to create concrete subclasses that implement the required methods.\n",
    "\n",
    "Here's a simple example demonstrating the use of the `abc` module to define an abstract base class:\n",
    "\n",
    "\n",
    "\n"
   ]
  },
  {
   "cell_type": "code",
   "execution_count": 2,
   "metadata": {},
   "outputs": [
    {
     "name": "stdout",
     "output_type": "stream",
     "text": [
      "Area of Rectangle: 15\n",
      "Perimeter of Rectangle: 16\n"
     ]
    }
   ],
   "source": [
    "from abc import ABC, abstractmethod\n",
    "\n",
    "class Shape(ABC):  # Define an abstract base class\n",
    "    @abstractmethod\n",
    "    def area(self):\n",
    "        pass\n",
    "\n",
    "    @abstractmethod\n",
    "    def perimeter(self):\n",
    "        pass\n",
    "\n",
    "class Rectangle(Shape):  # Define a concrete subclass\n",
    "    def __init__(self, length, width):\n",
    "        self.length = length\n",
    "        self.width = width\n",
    "\n",
    "    def area(self):\n",
    "        return self.length * self.width\n",
    "\n",
    "    def perimeter(self):\n",
    "        return 2 * (self.length + self.width)\n",
    "\n",
    "# Attempting to instantiate the abstract class will raise a TypeError\n",
    "# shape = Shape()  # TypeError: Can't instantiate abstract class Shape with abstract methods area, perimeter\n",
    "\n",
    "# Creating an instance of the concrete subclass\n",
    "rectangle = Rectangle(5, 3)\n",
    "print(\"Area of Rectangle:\", rectangle.area())        # Output: 15\n",
    "print(\"Perimeter of Rectangle:\", rectangle.perimeter())  # Output: 16"
   ]
  },
  {
   "cell_type": "markdown",
   "metadata": {},
   "source": [
    "In this example, the `Shape` class is defined as an abstract base class using the `ABC` metaclass. It contains abstract methods `area()` and `perimeter()` that must be implemented by concrete subclasses. The `Rectangle` class inherits from `Shape` and provides concrete implementations of the abstract methods."
   ]
  },
  {
   "cell_type": "markdown",
   "metadata": {},
   "source": [
    "Q4. How can we achieve data abstraction?"
   ]
  },
  {
   "cell_type": "markdown",
   "metadata": {},
   "source": [
    "Data abstraction in programming refers to the concept of hiding the implementation details of data and only exposing the essential features or interfaces to the outside world. This allows users to interact with the data at a higher level of abstraction, without needing to understand or manipulate the underlying implementation.\n",
    "\n",
    "In Python, data abstraction can be achieved through several mechanisms:\n",
    "\n",
    "1. **Classes and Objects**: Encapsulating data and behavior within classes and objects is a fundamental way to achieve data abstraction. By defining classes that represent abstract concepts or entities, and by exposing only the necessary attributes and methods through well-defined interfaces, you can hide the internal details of data structures and provide a simplified view to the users.\n",
    "\n",
    "2. **Access Control**: Python provides mechanisms for controlling access to attributes and methods of objects. By using access control modifiers such as public, protected, and private, you can restrict direct access to certain attributes or methods, thus enforcing data abstraction and encapsulation. Conventionally, attributes and methods prefixed with a single underscore `_` are considered protected, while those prefixed with double underscores `__` are considered private.\n",
    "\n",
    "3. **Abstract Base Classes (ABCs)**: The `abc` module in Python allows you to define abstract base classes (ABCs) and abstract methods. Abstract base classes define a set of methods that must be implemented by subclasses, enforcing a common interface. By defining abstract methods without providing implementations, you can define a contract that subclasses must adhere to, achieving data abstraction through interfaces.\n",
    "\n",
    "4. **Data Hiding**: Data hiding involves hiding the internal state of an object from the outside world. This can be achieved by encapsulating data within classes and providing access to that data only through methods. By hiding the internal representation of data and providing controlled access, you can achieve data abstraction and protect the integrity of the data.\n",
    "\n",
    "5. **Interface Design**: When designing interfaces for classes or modules, focus on exposing only the essential functionality that users need, while hiding unnecessary details. Design interfaces that are intuitive, easy to understand, and consistent across different parts of the codebase. By defining clear and well-documented interfaces, you can achieve effective data abstraction and promote code reuse and maintainability.\n",
    "\n",
    "Overall, achieving data abstraction in Python involves a combination of encapsulation, access control, abstraction through classes and objects, and interface design. By following best practices and design principles, you can create code that is easier to understand, maintain, and extend, while promoting modularity and reusability."
   ]
  },
  {
   "cell_type": "markdown",
   "metadata": {},
   "source": [
    "Q5. Can we create an instance of an abstract class? Explain your answer."
   ]
  },
  {
   "cell_type": "markdown",
   "metadata": {},
   "source": [
    "In Python, you cannot create an instance of an abstract class directly. Attempting to instantiate an abstract class will result in a `TypeError`. This is because abstract classes are meant to serve as templates or blueprints for creating concrete subclasses, and they typically contain one or more abstract methods that must be implemented by subclasses.\n",
    "\n",
    "Abstract classes are defined using the `abc` module's `ABC` metaclass, and they may contain one or more abstract methods defined using the `@abstractmethod` decorator. Abstract methods are methods that are declared in the abstract class but do not provide an implementation. Instead, they serve as placeholders, indicating that subclasses must provide their own implementation of these methods.\n",
    "\n",
    "Here's an example to illustrate this concept:\n",
    "\n",
    "\n"
   ]
  },
  {
   "cell_type": "code",
   "execution_count": 3,
   "metadata": {},
   "outputs": [
    {
     "ename": "TypeError",
     "evalue": "Can't instantiate abstract class Shape without an implementation for abstract methods 'area', 'perimeter'",
     "output_type": "error",
     "traceback": [
      "\u001b[1;31m---------------------------------------------------------------------------\u001b[0m",
      "\u001b[1;31mTypeError\u001b[0m                                 Traceback (most recent call last)",
      "Cell \u001b[1;32mIn[3], line 13\u001b[0m\n\u001b[0;32m     10\u001b[0m         \u001b[38;5;28;01mpass\u001b[39;00m\n\u001b[0;32m     12\u001b[0m \u001b[38;5;66;03m# Attempting to instantiate the abstract class will raise a TypeError\u001b[39;00m\n\u001b[1;32m---> 13\u001b[0m shape \u001b[38;5;241m=\u001b[39m \u001b[43mShape\u001b[49m\u001b[43m(\u001b[49m\u001b[43m)\u001b[49m  \u001b[38;5;66;03m# TypeError: Can't instantiate abstract class Shape with abstract methods area, perimeter\u001b[39;00m\n",
      "\u001b[1;31mTypeError\u001b[0m: Can't instantiate abstract class Shape without an implementation for abstract methods 'area', 'perimeter'"
     ]
    }
   ],
   "source": [
    "from abc import ABC, abstractmethod\n",
    "\n",
    "class Shape(ABC):  # Define an abstract base class\n",
    "    @abstractmethod\n",
    "    def area(self):\n",
    "        pass\n",
    "\n",
    "    @abstractmethod\n",
    "    def perimeter(self):\n",
    "        pass\n",
    "\n",
    "# Attempting to instantiate the abstract class will raise a TypeError\n",
    "shape = Shape()  # TypeError: Can't instantiate abstract class Shape with abstract methods area, perimeter"
   ]
  },
  {
   "cell_type": "markdown",
   "metadata": {},
   "source": [
    "In this example, the `Shape` class is defined as an abstract base class using the `ABC` metaclass from the `abc` module. It contains two abstract methods, `area()` and `perimeter()`, which do not provide implementations. When you attempt to create an instance of the `Shape` class (`shape = Shape()`), Python raises a `TypeError` because abstract classes cannot be instantiated directly.\n",
    "\n",
    "Instead, abstract classes serve as blueprints for creating concrete subclasses. Subclasses of an abstract class must provide concrete implementations for all abstract methods defined in the abstract class. By enforcing this requirement, abstract classes ensure that subclasses adhere to a common interface and provide consistent behavior, thus promoting code maintainability and interoperability."
   ]
  },
  {
   "cell_type": "markdown",
   "metadata": {},
   "source": []
  }
 ],
 "metadata": {
  "kernelspec": {
   "display_name": "Python 3",
   "language": "python",
   "name": "python3"
  },
  "language_info": {
   "codemirror_mode": {
    "name": "ipython",
    "version": 3
   },
   "file_extension": ".py",
   "mimetype": "text/x-python",
   "name": "python",
   "nbconvert_exporter": "python",
   "pygments_lexer": "ipython3",
   "version": "3.12.0"
  }
 },
 "nbformat": 4,
 "nbformat_minor": 2
}
